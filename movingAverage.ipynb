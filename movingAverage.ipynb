{
 "cells": [
  {
   "cell_type": "code",
   "execution_count": 1,
   "id": "loved-guinea",
   "metadata": {},
   "outputs": [],
   "source": [
    "from pyspark.sql import SparkSession\n",
    "\n",
    "spark = SparkSession.\\\n",
    "        builder.\\\n",
    "        appName(\"pyspark-notebook2\").\\\n",
    "        master(\"spark://spark-master:7077\").\\\n",
    "        config(\"spark.executor.memory\", \"1g\").\\\n",
    "        config(\"spark.mongodb.input.uri\",\"mongodb://mongo1:27017,mongo2:27018,mongo3:27019/Stocks.Source?replicaSet=rs0\").\\\n",
    "        config(\"spark.mongodb.output.uri\",\"mongodb://mongo1:27017,mongo2:27018,mongo3:27019/Stocks.Source?replicaSet=rs0\").\\\n",
    "        config(\"spark.jars.packages\", \"org.mongodb.spark:mongo-spark-connector_2.12:3.0.0\").\\\n",
    "        getOrCreate()"
   ]
  },
  {
   "cell_type": "code",
   "execution_count": 2,
   "id": "generous-helen",
   "metadata": {},
   "outputs": [
    {
     "name": "stdout",
     "output_type": "stream",
     "text": [
      "root\n",
      " |-- _id: struct (nullable = true)\n",
      " |    |-- oid: string (nullable = true)\n",
      " |-- company_name: string (nullable = true)\n",
      " |-- company_symbol: string (nullable = true)\n",
      " |-- price: double (nullable = true)\n",
      " |-- tx_time: string (nullable = true)\n",
      "\n"
     ]
    }
   ],
   "source": [
    "#reading dataframes from MongoDB\n",
    "df = spark.read.format(\"mongo\").load()\n",
    "\n",
    "df.printSchema()"
   ]
  },
  {
   "cell_type": "code",
   "execution_count": 3,
   "id": "pharmaceutical-fundamental",
   "metadata": {},
   "outputs": [],
   "source": [
    "#let's change the data type to a timestamp\n",
    "df = df.withColumn(\"tx_time\", df.tx_time.cast(\"timestamp\"))"
   ]
  },
  {
   "cell_type": "code",
   "execution_count": 4,
   "id": "theoretical-cricket",
   "metadata": {},
   "outputs": [
    {
     "name": "stdout",
     "output_type": "stream",
     "text": [
      "+--------------------+--------------------+--------------+-----+-------------------+------------------+\n",
      "|                 _id|        company_name|company_symbol|price|            tx_time|     movingAverage|\n",
      "+--------------------+--------------------+--------------+-----+-------------------+------------------+\n",
      "|[5f527ac32f6a1552...|ITCHY ACRE CORPOR...|           IAC|43.39|2020-09-04 13:34:59|            43.405|\n",
      "|[5f527ac42f6a1552...|ITCHY ACRE CORPOR...|           IAC|43.42|2020-09-04 13:35:00|43.419999999999995|\n",
      "|[5f527ac52f6a1552...|ITCHY ACRE CORPOR...|           IAC|43.45|2020-09-04 13:35:01|43.443333333333335|\n",
      "|[5f527ac62f6a1552...|ITCHY ACRE CORPOR...|           IAC|43.46|2020-09-04 13:35:02|             43.46|\n",
      "|[5f527ac72f6a1552...|ITCHY ACRE CORPOR...|           IAC|43.47|2020-09-04 13:35:03| 43.47666666666667|\n",
      "|[5f527ac82f6a1552...|ITCHY ACRE CORPOR...|           IAC| 43.5|2020-09-04 13:35:04| 43.49666666666667|\n",
      "|[5f527ac92f6a1552...|ITCHY ACRE CORPOR...|           IAC|43.52|2020-09-04 13:35:05|             43.52|\n",
      "|[5f527aca2f6a1552...|ITCHY ACRE CORPOR...|           IAC|43.54|2020-09-04 13:35:06| 43.53666666666667|\n",
      "|[5f527acb2f6a1552...|ITCHY ACRE CORPOR...|           IAC|43.55|2020-09-04 13:35:07|             43.54|\n",
      "|[5f527acc2f6a1552...|ITCHY ACRE CORPOR...|           IAC|43.53|2020-09-04 13:35:08| 43.53666666666667|\n",
      "|[5f527acd2f6a1552...|ITCHY ACRE CORPOR...|           IAC|43.53|2020-09-04 13:35:09| 43.49666666666667|\n",
      "|[5f527ada2f6a1552...|ITCHY ACRE CORPOR...|           IAC|43.43|2020-09-04 13:35:22| 43.45000000000001|\n",
      "|[5f527adb2f6a1552...|ITCHY ACRE CORPOR...|           IAC|43.39|2020-09-04 13:35:23| 43.39333333333334|\n",
      "|[5f527adc2f6a1552...|ITCHY ACRE CORPOR...|           IAC|43.36|2020-09-04 13:35:24| 43.35666666666666|\n",
      "|[5f527adf2f6a1552...|ITCHY ACRE CORPOR...|           IAC|43.32|2020-09-04 13:35:27|             43.32|\n",
      "|[5f527ae02f6a1552...|ITCHY ACRE CORPOR...|           IAC|43.28|2020-09-04 13:35:28| 43.29333333333333|\n",
      "|[5f527ae12f6a1552...|ITCHY ACRE CORPOR...|           IAC|43.28|2020-09-04 13:35:29| 43.28666666666667|\n",
      "|[5f527ae22f6a1552...|ITCHY ACRE CORPOR...|           IAC| 43.3|2020-09-04 13:35:30| 43.30666666666667|\n",
      "|[5f527ae32f6a1552...|ITCHY ACRE CORPOR...|           IAC|43.34|2020-09-04 13:35:31|             43.34|\n",
      "|[5f527ac22f6a1552...|ITCHY ACRE CORPOR...|           IAC|43.38|2020-09-04 13:34:58|43.416666666666664|\n",
      "+--------------------+--------------------+--------------+-----+-------------------+------------------+\n",
      "only showing top 20 rows\n",
      "\n"
     ]
    }
   ],
   "source": [
    "#Here we are calculating a moving average\n",
    "from pyspark.sql.window import Window\n",
    "from pyspark.sql import functions as F\n",
    "\n",
    "movAvg = df.withColumn(\"movingAverage\", F.avg(\"price\").over( Window.partitionBy(\"company_symbol\").rowsBetween(-1,1)) )\n",
    "movAvg.show()"
   ]
  },
  {
   "cell_type": "code",
   "execution_count": 5,
   "id": "essential-preference",
   "metadata": {},
   "outputs": [],
   "source": [
    "#Saving Dataframes to MongoDB\n",
    "movAvg.write.format(\"mongo\").option(\"replaceDocument\", \"true\").mode(\"append\").save()"
   ]
  },
  {
   "cell_type": "code",
   "execution_count": 6,
   "id": "inner-shopping",
   "metadata": {},
   "outputs": [
    {
     "name": "stdout",
     "output_type": "stream",
     "text": [
      "+--------------------+--------+\n",
      "|                 _id|maxprice|\n",
      "+--------------------+--------+\n",
      "|FRUSTRATING CHAOS...|    87.6|\n",
      "|HOMELY KIOSK UNLI...|   86.48|\n",
      "| CREEPY GIT HOLDINGS|    83.4|\n",
      "|GREASY CHAMPION C...|   81.76|\n",
      "|COMBATIVE TOWNSHI...|   72.18|\n",
      "|FROTHY MIDNIGHT P...|   66.81|\n",
      "|ITCHY ACRE CORPOR...|   44.42|\n",
      "|LACKADAISICAL SAV...|   42.34|\n",
      "|CORNY PRACTITIONE...|   38.55|\n",
      "|TRITE JACKFRUIT P...|   22.62|\n",
      "+--------------------+--------+\n",
      "\n"
     ]
    }
   ],
   "source": [
    "#Reading Dataframes from the Aggregation Pipeline in MongoDB\n",
    "pipeline = \"[{'$group': {_id:'$company_name', 'maxprice': {$max:'$price'}}},{$sort:{'maxprice':-1}}]\"\n",
    "aggPipelineDF = spark.read.format(\"mongo\").option(\"pipeline\", pipeline).load()\n",
    "aggPipelineDF.show()"
   ]
  },
  {
   "cell_type": "code",
   "execution_count": 7,
   "id": "advance-combine",
   "metadata": {},
   "outputs": [
    {
     "name": "stdout",
     "output_type": "stream",
     "text": [
      "+--------------------+--------------------+--------------+-----+-------+------------------+\n",
      "|                 _id|        company_name|company_symbol|price|tx_time|     movingAverage|\n",
      "+--------------------+--------------------+--------------+-----+-------+------------------+\n",
      "|[5f527ac32f6a1552...|ITCHY ACRE CORPOR...|           IAC|43.39|   null|            43.405|\n",
      "|[5f527ac42f6a1552...|ITCHY ACRE CORPOR...|           IAC|43.42|   null|43.419999999999995|\n",
      "|[5f527ac52f6a1552...|ITCHY ACRE CORPOR...|           IAC|43.45|   null|43.443333333333335|\n",
      "|[5f527ac62f6a1552...|ITCHY ACRE CORPOR...|           IAC|43.46|   null|             43.46|\n",
      "|[5f527ac72f6a1552...|ITCHY ACRE CORPOR...|           IAC|43.47|   null| 43.47666666666667|\n",
      "|[5f527ac82f6a1552...|ITCHY ACRE CORPOR...|           IAC| 43.5|   null| 43.49666666666667|\n",
      "|[5f527ac92f6a1552...|ITCHY ACRE CORPOR...|           IAC|43.52|   null|             43.52|\n",
      "|[5f527aca2f6a1552...|ITCHY ACRE CORPOR...|           IAC|43.54|   null| 43.53666666666667|\n",
      "|[5f527acb2f6a1552...|ITCHY ACRE CORPOR...|           IAC|43.55|   null|             43.54|\n",
      "|[5f527acc2f6a1552...|ITCHY ACRE CORPOR...|           IAC|43.53|   null| 43.53666666666667|\n",
      "|[5f527acd2f6a1552...|ITCHY ACRE CORPOR...|           IAC|43.53|   null| 43.49666666666667|\n",
      "|[5f527ada2f6a1552...|ITCHY ACRE CORPOR...|           IAC|43.43|   null| 43.45000000000001|\n",
      "|[5f527adb2f6a1552...|ITCHY ACRE CORPOR...|           IAC|43.39|   null| 43.39333333333334|\n",
      "|[5f527adc2f6a1552...|ITCHY ACRE CORPOR...|           IAC|43.36|   null| 43.35666666666666|\n",
      "|[5f527adf2f6a1552...|ITCHY ACRE CORPOR...|           IAC|43.32|   null|             43.32|\n",
      "|[5f527ae02f6a1552...|ITCHY ACRE CORPOR...|           IAC|43.28|   null| 43.29333333333333|\n",
      "|[5f527ae12f6a1552...|ITCHY ACRE CORPOR...|           IAC|43.28|   null| 43.28666666666667|\n",
      "|[5f527ae22f6a1552...|ITCHY ACRE CORPOR...|           IAC| 43.3|   null| 43.30666666666667|\n",
      "|[5f527ae32f6a1552...|ITCHY ACRE CORPOR...|           IAC|43.34|   null|             43.34|\n",
      "|[5f527ac22f6a1552...|ITCHY ACRE CORPOR...|           IAC|43.38|   null|43.416666666666664|\n",
      "+--------------------+--------------------+--------------+-----+-------+------------------+\n",
      "only showing top 20 rows\n",
      "\n"
     ]
    }
   ],
   "source": [
    "#using SparkSQL with MongoDB\n",
    "movAvg.createOrReplaceTempView(\"avgs\")\n",
    "\n",
    "sqlDF=spark.sql(\"SELECT * FROM avgs WHERE movingAverage > 43.0\")\n",
    "\n",
    "sqlDF.show()"
   ]
  },
  {
   "cell_type": "code",
   "execution_count": null,
   "id": "ranging-premium",
   "metadata": {},
   "outputs": [],
   "source": []
  }
 ],
 "metadata": {
  "kernelspec": {
   "display_name": "Python 3",
   "language": "python",
   "name": "python3"
  },
  "language_info": {
   "codemirror_mode": {
    "name": "ipython",
    "version": 3
   },
   "file_extension": ".py",
   "mimetype": "text/x-python",
   "name": "python",
   "nbconvert_exporter": "python",
   "pygments_lexer": "ipython3",
   "version": "3.8.6"
  }
 },
 "nbformat": 4,
 "nbformat_minor": 5
}
